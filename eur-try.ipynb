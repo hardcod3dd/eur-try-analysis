{
 "cells": [
  {
   "cell_type": "code",
   "execution_count": 1,
   "metadata": {},
   "outputs": [
    {
     "name": "stdout",
     "output_type": "stream",
     "text": [
      "<class 'pandas.core.frame.DataFrame'>\n",
      "RangeIndex: 5699 entries, 0 to 5698\n",
      "Data columns (total 41 columns):\n",
      " #   Column                    Non-Null Count  Dtype  \n",
      "---  ------                    --------------  -----  \n",
      " 0   Period\\Unit:              5699 non-null   object \n",
      " 1   [Australian dollar ]      5699 non-null   object \n",
      " 2   [Bulgarian lev ]          5297 non-null   object \n",
      " 3   [Brazilian real ]         5431 non-null   object \n",
      " 4   [Canadian dollar ]        5699 non-null   object \n",
      " 5   [Swiss franc ]            5699 non-null   object \n",
      " 6   [Chinese yuan renminbi ]  5431 non-null   object \n",
      " 7   [Cypriot pound ]          2346 non-null   object \n",
      " 8   [Czech koruna ]           5699 non-null   object \n",
      " 9   [Danish krone ]           5699 non-null   object \n",
      " 10  [Estonian kroon ]         3130 non-null   object \n",
      " 11  [UK pound sterling ]      5699 non-null   object \n",
      " 12  [Greek drachma ]          520 non-null    object \n",
      " 13  [Hong Kong dollar ]       5699 non-null   object \n",
      " 14  [Croatian kuna ]          5431 non-null   object \n",
      " 15  [Hungarian forint ]       5699 non-null   object \n",
      " 16  [Indonesian rupiah ]      5699 non-null   object \n",
      " 17  [Israeli shekel ]         5431 non-null   object \n",
      " 18  [Indian rupee ]           5431 non-null   object \n",
      " 19  [Iceland krona ]          3292 non-null   float64\n",
      " 20  [Japanese yen ]           5699 non-null   object \n",
      " 21  [Korean won ]             5699 non-null   object \n",
      " 22  [Lithuanian litas ]       4159 non-null   object \n",
      " 23  [Latvian lats ]           3904 non-null   object \n",
      " 24  [Maltese lira ]           2346 non-null   object \n",
      " 25  [Mexican peso ]           5699 non-null   object \n",
      " 26  [Malaysian ringgit ]      5699 non-null   object \n",
      " 27  [Norwegian krone ]        5699 non-null   object \n",
      " 28  [New Zealand dollar ]     5699 non-null   object \n",
      " 29  [Philippine peso ]        5699 non-null   object \n",
      " 30  [Polish zloty ]           5699 non-null   object \n",
      " 31  [Romanian leu ]           5637 non-null   float64\n",
      " 32  [Russian rouble ]         5699 non-null   object \n",
      " 33  [Swedish krona ]          5699 non-null   object \n",
      " 34  [Singapore dollar ]       5699 non-null   object \n",
      " 35  [Slovenian tolar ]        2085 non-null   object \n",
      " 36  [Slovak koruna ]          2608 non-null   object \n",
      " 37  [Thai baht ]              5699 non-null   object \n",
      " 38  [Turkish lira ]           5637 non-null   float64\n",
      " 39  [US dollar ]              5699 non-null   object \n",
      " 40  [South African rand ]     5699 non-null   object \n",
      "dtypes: float64(3), object(38)\n",
      "memory usage: 1.8+ MB\n"
     ]
    }
   ],
   "source": [
    "#import and set the file\n",
    "\n",
    "import pandas as pd\n",
    "\n",
    "exchange_rates = pd.read_csv('euro-daily-hist_1999_2020.csv')\n",
    "exchange_rates.head()\n",
    "exchange_rates.info()"
   ]
  },
  {
   "cell_type": "code",
   "execution_count": 67,
   "metadata": {},
   "outputs": [],
   "source": [
    "#clean up\n",
    "exchange_rates.rename(columns={'[Turkish lira ]': 'TRY',\n",
    "                               'Period\\\\Unit:': 'Time'},\n",
    "                      inplace=True)\n",
    "exchange_rates['Time'] = pd.to_datetime(exchange_rates['Time'])\n",
    "exchange_rates.sort_values('Time', inplace=True)\n",
    "exchange_rates.reset_index(drop=True, inplace=True)\n",
    "exchange_rates.head()\n",
    "\n",
    "#split\n",
    "euro_to_try = exchange_rates[['Time', 'TRY']].copy()\n",
    "euro_to_try['TRY'].value_counts()\n",
    "\n",
    "euro_to_try.dropna(subset=['TRY'], inplace=True)"
   ]
  },
  {
   "cell_type": "code",
   "execution_count": 68,
   "metadata": {},
   "outputs": [
    {
     "name": "stdout",
     "output_type": "stream",
     "text": [
      "<class 'pandas.core.frame.DataFrame'>\n",
      "Int64Index: 5637 entries, 0 to 5698\n",
      "Data columns (total 2 columns):\n",
      " #   Column  Non-Null Count  Dtype         \n",
      "---  ------  --------------  -----         \n",
      " 0   Time    5637 non-null   datetime64[ns]\n",
      " 1   TRY     5637 non-null   float64       \n",
      "dtypes: datetime64[ns](1), float64(1)\n",
      "memory usage: 132.1 KB\n"
     ]
    }
   ],
   "source": [
    "euro_to_try['TRY'] = euro_to_try['TRY'].astype(float)\n",
    "euro_to_try.info()"
   ]
  },
  {
   "cell_type": "code",
   "execution_count": 69,
   "metadata": {},
   "outputs": [
    {
     "data": {
      "image/png": "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\n",
      "text/plain": [
       "<Figure size 600x400 with 1 Axes>"
      ]
     },
     "metadata": {},
     "output_type": "display_data"
    }
   ],
   "source": [
    "import matplotlib.pyplot as plt\n",
    "%matplotlib inline\n",
    "\n",
    "plt.plot(euro_to_try['Time'], euro_to_try['TRY'])\n",
    "plt.show()"
   ]
  },
  {
   "cell_type": "code",
   "execution_count": 70,
   "metadata": {},
   "outputs": [
    {
     "data": {
      "text/html": [
       "<div>\n",
       "<style scoped>\n",
       "    .dataframe tbody tr th:only-of-type {\n",
       "        vertical-align: middle;\n",
       "    }\n",
       "\n",
       "    .dataframe tbody tr th {\n",
       "        vertical-align: top;\n",
       "    }\n",
       "\n",
       "    .dataframe thead th {\n",
       "        text-align: right;\n",
       "    }\n",
       "</style>\n",
       "<table border=\"1\" class=\"dataframe\">\n",
       "  <thead>\n",
       "    <tr style=\"text-align: right;\">\n",
       "      <th></th>\n",
       "      <th>Time</th>\n",
       "      <th>TRY</th>\n",
       "      <th>rolling_mean</th>\n",
       "    </tr>\n",
       "  </thead>\n",
       "  <tbody>\n",
       "    <tr>\n",
       "      <th>0</th>\n",
       "      <td>1999-01-04</td>\n",
       "      <td>0.3723</td>\n",
       "      <td>NaN</td>\n",
       "    </tr>\n",
       "    <tr>\n",
       "      <th>1</th>\n",
       "      <td>1999-01-05</td>\n",
       "      <td>0.3728</td>\n",
       "      <td>NaN</td>\n",
       "    </tr>\n",
       "    <tr>\n",
       "      <th>2</th>\n",
       "      <td>1999-01-06</td>\n",
       "      <td>0.3722</td>\n",
       "      <td>NaN</td>\n",
       "    </tr>\n",
       "    <tr>\n",
       "      <th>3</th>\n",
       "      <td>1999-01-07</td>\n",
       "      <td>0.3701</td>\n",
       "      <td>NaN</td>\n",
       "    </tr>\n",
       "    <tr>\n",
       "      <th>4</th>\n",
       "      <td>1999-01-08</td>\n",
       "      <td>0.3718</td>\n",
       "      <td>NaN</td>\n",
       "    </tr>\n",
       "    <tr>\n",
       "      <th>...</th>\n",
       "      <td>...</td>\n",
       "      <td>...</td>\n",
       "      <td>...</td>\n",
       "    </tr>\n",
       "    <tr>\n",
       "      <th>5694</th>\n",
       "      <td>2021-01-04</td>\n",
       "      <td>9.0579</td>\n",
       "      <td>9.357613</td>\n",
       "    </tr>\n",
       "    <tr>\n",
       "      <th>5695</th>\n",
       "      <td>2021-01-05</td>\n",
       "      <td>9.0694</td>\n",
       "      <td>9.358360</td>\n",
       "    </tr>\n",
       "    <tr>\n",
       "      <th>5696</th>\n",
       "      <td>2021-01-06</td>\n",
       "      <td>9.0554</td>\n",
       "      <td>9.351420</td>\n",
       "    </tr>\n",
       "    <tr>\n",
       "      <th>5697</th>\n",
       "      <td>2021-01-07</td>\n",
       "      <td>8.9987</td>\n",
       "      <td>9.336537</td>\n",
       "    </tr>\n",
       "    <tr>\n",
       "      <th>5698</th>\n",
       "      <td>2021-01-08</td>\n",
       "      <td>9.0146</td>\n",
       "      <td>9.320857</td>\n",
       "    </tr>\n",
       "  </tbody>\n",
       "</table>\n",
       "<p>5637 rows × 3 columns</p>\n",
       "</div>"
      ],
      "text/plain": [
       "           Time     TRY  rolling_mean\n",
       "0    1999-01-04  0.3723           NaN\n",
       "1    1999-01-05  0.3728           NaN\n",
       "2    1999-01-06  0.3722           NaN\n",
       "3    1999-01-07  0.3701           NaN\n",
       "4    1999-01-08  0.3718           NaN\n",
       "...         ...     ...           ...\n",
       "5694 2021-01-04  9.0579      9.357613\n",
       "5695 2021-01-05  9.0694      9.358360\n",
       "5696 2021-01-06  9.0554      9.351420\n",
       "5697 2021-01-07  8.9987      9.336537\n",
       "5698 2021-01-08  9.0146      9.320857\n",
       "\n",
       "[5637 rows x 3 columns]"
      ]
     },
     "execution_count": 70,
     "metadata": {},
     "output_type": "execute_result"
    }
   ],
   "source": [
    "euro_to_try['rolling_mean'] = euro_to_try['TRY'].rolling(30).mean()\n",
    "euro_to_try"
   ]
  },
  {
   "cell_type": "code",
   "execution_count": 71,
   "metadata": {},
   "outputs": [
    {
     "data": {
      "text/html": [
       "<div>\n",
       "<style scoped>\n",
       "    .dataframe tbody tr th:only-of-type {\n",
       "        vertical-align: middle;\n",
       "    }\n",
       "\n",
       "    .dataframe tbody tr th {\n",
       "        vertical-align: top;\n",
       "    }\n",
       "\n",
       "    .dataframe thead th {\n",
       "        text-align: right;\n",
       "    }\n",
       "</style>\n",
       "<table border=\"1\" class=\"dataframe\">\n",
       "  <thead>\n",
       "    <tr style=\"text-align: right;\">\n",
       "      <th></th>\n",
       "      <th>Time</th>\n",
       "      <th>TRY</th>\n",
       "      <th>rolling_mean</th>\n",
       "    </tr>\n",
       "  </thead>\n",
       "  <tbody>\n",
       "    <tr>\n",
       "      <th>3130</th>\n",
       "      <td>2011-01-03</td>\n",
       "      <td>2.0807</td>\n",
       "      <td>2.009633</td>\n",
       "    </tr>\n",
       "    <tr>\n",
       "      <th>3131</th>\n",
       "      <td>2011-01-04</td>\n",
       "      <td>2.0744</td>\n",
       "      <td>2.012380</td>\n",
       "    </tr>\n",
       "    <tr>\n",
       "      <th>3132</th>\n",
       "      <td>2011-01-05</td>\n",
       "      <td>2.0490</td>\n",
       "      <td>2.014830</td>\n",
       "    </tr>\n",
       "    <tr>\n",
       "      <th>3133</th>\n",
       "      <td>2011-01-06</td>\n",
       "      <td>2.0251</td>\n",
       "      <td>2.016800</td>\n",
       "    </tr>\n",
       "    <tr>\n",
       "      <th>3134</th>\n",
       "      <td>2011-01-07</td>\n",
       "      <td>2.0344</td>\n",
       "      <td>2.018923</td>\n",
       "    </tr>\n",
       "  </tbody>\n",
       "</table>\n",
       "</div>"
      ],
      "text/plain": [
       "           Time     TRY  rolling_mean\n",
       "3130 2011-01-03  2.0807      2.009633\n",
       "3131 2011-01-04  2.0744      2.012380\n",
       "3132 2011-01-05  2.0490      2.014830\n",
       "3133 2011-01-06  2.0251      2.016800\n",
       "3134 2011-01-07  2.0344      2.018923"
      ]
     },
     "execution_count": 71,
     "metadata": {},
     "output_type": "execute_result"
    }
   ],
   "source": [
    "babacan = euro_to_try.copy(\n",
    "                   )[(euro_to_try['Time'].dt.year >= 2011\n",
    "                   ) & (euro_to_try['Time'].dt.year <= 2015)]\n",
    "simsek = euro_to_try.copy(\n",
    "                   )[(euro_to_try.Time.dt.year >= 2015\n",
    "                   ) & (euro_to_try.Time.dt.year <= 2018)]\n",
    "berat = euro_to_try.copy(\n",
    "                   )[(euro_to_try.Time.dt.year >= 2018\n",
    "                   ) & (euro_to_try.Time.dt.year <= 2020)]\n",
    "\n",
    "babacan.head()"
   ]
  },
  {
   "cell_type": "code",
   "execution_count": 73,
   "metadata": {},
   "outputs": [
    {
     "data": {
      "image/png": "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\n",
      "text/plain": [
       "<Figure size 1500x500 with 3 Axes>"
      ]
     },
     "metadata": {},
     "output_type": "display_data"
    }
   ],
   "source": [
    "import matplotlib.pyplot as plt\n",
    "import matplotlib.style as style\n",
    "\n",
    "style.use('fivethirtyeight')\n",
    "\n",
    "fig, axes = plt.subplots(1, 3, figsize=(15, 5))\n",
    "\n",
    "for ax in axes:\n",
    "    ax.set_ylim(0.8, 1.7)\n",
    "    ax.set_yticks([2, 3,5, 7, 9]),
    "    ax.set_yticklabels(['2', '3','5', '7', '9'],\n",
    "                   alpha=0.3)\n",
    "    ax.grid(alpha=0.5)    \n",
    "\n",
    "# Plot 1: Babacan\n",
    "axes[0].plot(babacan['Time'], babacan['rolling_mean'], color='#BF5FFF')\n",
    "axes[0].set_xticklabels(['', '2009', '', '2011', '', '2013', '', '2015'], alpha=0.3)\n",
    "axes[0].set_title('BABACAN')\n",
    "axes[0].text(0.3, 0.9, 'BABACAN', fontsize=18, weight='bold', color='#BF5FFF', transform=axes[0].transAxes)\n",
    "axes[0].text(0.3, 0.8, '(2009-2015)', weight='bold', alpha=0.3, transform=axes[0].transAxes)\n",
    "\n",
    "# Plot 2: Simsek\n",
    "axes[1].plot(simsek['Time'], simsek['rolling_mean'], color='#ffa500')\n",
    "axes[1].set_xticklabels(['', '2015', '', '2016', '', '2017', '', '2018'], alpha=0.3)\n",
    "axes[1].set_title('ŞİMŞEK')\n",
    "axes[1].text(0.5, 0.9, 'ŞİMŞEK', fontsize=18, weight='bold', color='#ffa500', transform=axes[1].transAxes)\n",
    "axes[1].text(0.5, 0.8, '(2015-2018)', weight='bold', alpha=0.3, transform=axes[1].transAxes)\n",
    "\n",
    "# Plot 3: berat\n",
    "axes[2].plot(berat['Time'], berat['rolling_mean'], color='#00B2EE')\n",
    "axes[2].set_xticklabels(['', '2015', '', '2017', '', '2019', '', '2020', ''], alpha=0.3)\n",
    "axes[2].set_title('BERAT')\n",
    "axes[2].text(0.5, 0.9, 'BERAT', fontsize=18, weight='bold', color='#00B2EE', transform=axes[2].transAxes)\n",
    "axes[2].text(0.5, 0.8, '(2017-2021)', weight='bold', alpha=0.3, transform=axes[2].transAxes)\n",
    "\n",
    "fig.suptitle('EURO-TRY Rates Under 3 Ministers', fontsize=20, weight='bold')\n",
    "fig.tight_layout(rect=[0, 0.03, 1, 0.95])\n",
    "\n",
    "plt.show()\n"
   ]
  },
  {
   "cell_type": "code",
   "execution_count": null,
   "metadata": {},
   "outputs": [],
   "source": []
  },
  {
   "cell_type": "code",
   "execution_count": null,
   "metadata": {},
   "outputs": [],
   "source": []
  }
 ],
 "metadata": {
  "kernelspec": {
   "display_name": "Python 3",
   "language": "python",
   "name": "python3"
  },
  "language_info": {
   "codemirror_mode": {
    "name": "ipython",
    "version": 3
   },
   "file_extension": ".py",
   "mimetype": "text/x-python",
   "name": "python",
   "nbconvert_exporter": "python",
   "pygments_lexer": "ipython3",
   "version": "3.8.2"
  }
 },
 "nbformat": 4,
 "nbformat_minor": 4
}
